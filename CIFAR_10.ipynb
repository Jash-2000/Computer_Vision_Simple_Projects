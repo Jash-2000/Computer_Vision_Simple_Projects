{
  "nbformat": 4,
  "nbformat_minor": 0,
  "metadata": {
    "accelerator": "GPU",
    "colab": {
      "name": "CIFAR-10.ipynb",
      "provenance": []
    },
    "kernelspec": {
      "display_name": "Python 3",
      "language": "python",
      "name": "python3"
    },
    "language_info": {
      "codemirror_mode": {
        "name": "ipython",
        "version": 3
      },
      "file_extension": ".py",
      "mimetype": "text/x-python",
      "name": "python",
      "nbconvert_exporter": "python",
      "pygments_lexer": "ipython3",
      "version": "3.6.9"
    }
  },
  "cells": [
    {
      "cell_type": "markdown",
      "metadata": {
        "id": "iiVBUpuHXEtw"
      },
      "source": [
        "# Create a CNN to classify Cifar-10\n",
        "\n",
        "Learn about Cifar-10 here: https://www.cs.toronto.edu/~kriz/cifar.html"
      ]
    },
    {
      "cell_type": "code",
      "metadata": {
        "id": "6OQ_tVTaU3oo",
        "colab": {
          "base_uri": "https://localhost:8080/"
        },
        "outputId": "b3299126-1f42-41ce-c6af-79c8007b7596"
      },
      "source": [
        "import matplotlib.pyplot as plt\n",
        "import tensorflow as tf\n",
        "\n",
        "from tensorflow.keras import datasets, layers, models\n",
        "import matplotlib.pyplot as plt\n",
        "\n",
        "(train_images, train_labels), (test_images, test_labels) = datasets.cifar10.load_data()\n",
        "\n",
        "temp_train_images = train_images\n",
        "temp_test_images = test_images\n",
        "\n",
        "# Normalize pixel values to be between 0 and 1\n",
        "train_images = train_images / 255.0\n",
        "test_images = test_images / 255.0"
      ],
      "execution_count": null,
      "outputs": [
        {
          "output_type": "stream",
          "text": [
            "Downloading data from https://www.cs.toronto.edu/~kriz/cifar-10-python.tar.gz\n",
            "170500096/170498071 [==============================] - 4s 0us/step\n"
          ],
          "name": "stdout"
        }
      ]
    },
    {
      "cell_type": "code",
      "metadata": {
        "id": "dLFCvPT4Xz4W",
        "colab": {
          "base_uri": "https://localhost:8080/",
          "height": 283
        },
        "outputId": "a18bf972-5595-4bf2-f981-efaccea2e621"
      },
      "source": [
        "plt.imshow(temp_train_images[1])"
      ],
      "execution_count": null,
      "outputs": [
        {
          "output_type": "execute_result",
          "data": {
            "text/plain": [
              "<matplotlib.image.AxesImage at 0x7f0caff2a198>"
            ]
          },
          "metadata": {
            "tags": []
          },
          "execution_count": 2
        },
        {
          "output_type": "display_data",
          "data": {
            "image/png": "[encoded data removed]",
            "text/plain": [
              "<Figure size 432x288 with 1 Axes>"
            ]
          },
          "metadata": {
            "tags": [],
            "needs_background": "light"
          }
        }
      ]
    },
    {
      "cell_type": "code",
      "metadata": {
        "id": "law2hNzdVA16"
      },
      "source": [
        "FIRST_LAYER = layers.Conv2D(32, (3, 3), activation='relu', input_shape=(32, 32, 3))\n",
        "\n",
        "HIDDEN_LAYER_TYPE_1 = layers.MaxPooling2D((2, 2))\n",
        "\n",
        "HIDDEN_LAYER_TYPE_2 = layers.Conv2D(64, (3, 3), activation='relu')\n",
        "\n",
        "HIDDEN_LAYER_TYPE_3 = layers.MaxPooling2D((2, 2))\n",
        "\n",
        "HIDDEN_LAYER_TYPE_4 = layers.Conv2D(64, (3, 3), activation='relu')\n",
        "\n",
        "HIDDEN_LAYER_TYPE_5 = layers.Dense(64, activation='relu')\n",
        "\n",
        "LAST_LAYER = layers.Dense(10)\n",
        "\n",
        "model = models.Sequential([\n",
        "       FIRST_LAYER,\n",
        "       HIDDEN_LAYER_TYPE_1,\n",
        "       HIDDEN_LAYER_TYPE_2,\n",
        "       HIDDEN_LAYER_TYPE_3,\n",
        "       HIDDEN_LAYER_TYPE_4,\n",
        "       layers.Flatten(),\n",
        "       HIDDEN_LAYER_TYPE_5,\n",
        "       LAST_LAYER,\n",
        "])"
      ],
      "execution_count": null,
      "outputs": []
    },
    {
      "cell_type": "code",
      "metadata": {
        "id": "Dxq2JU7dVIEX",
        "colab": {
          "base_uri": "https://localhost:8080/",
          "height": 975
        },
        "outputId": "5ee5aaaf-3cd4-4c80-fa68-c126e308593b"
      },
      "source": [
        "LOSS = tf.keras.losses.SparseCategoricalCrossentropy(from_logits=True)\n",
        "NUM_EPOCHS = 20 #You can change this value if you like to experiment with it to get better accuracy\n",
        "\n",
        "# Compile the model\n",
        "model.compile(optimizer='sgd',\n",
        "              loss=LOSS,\n",
        "              metrics=['accuracy'])\n",
        "\n",
        "# Fit the model\n",
        "history = model.fit(train_images, train_labels, epochs=NUM_EPOCHS, \n",
        "                    validation_data=(test_images, test_labels))\n",
        "\n",
        "# summarize history for accuracy\n",
        "plt.plot(history.history['accuracy'])\n",
        "plt.plot(history.history['val_accuracy'])\n",
        "plt.title('model accuracy')\n",
        "plt.ylabel('accuracy')\n",
        "plt.xlabel('epoch')\n",
        "plt.legend(['train', 'test'], loc='upper left')\n",
        "plt.xlim([0,NUM_EPOCHS])\n",
        "plt.ylim([0.4,1.0])\n",
        "plt.show()"
      ],
      "execution_count": null,
      "outputs": [
        {
          "output_type": "stream",
          "text": [
            "Epoch 1/20\n",
            "1563/1563 [==============================] - 12s 3ms/step - loss: 2.2161 - accuracy: 0.1645 - val_loss: 1.9483 - val_accuracy: 0.2936\n",
            "Epoch 2/20\n",
            "1563/1563 [==============================] - 5s 3ms/step - loss: 1.7877 - accuracy: 0.3508 - val_loss: 1.7003 - val_accuracy: 0.3711\n",
            "Epoch 3/20\n",
            "1563/1563 [==============================] - 5s 3ms/step - loss: 1.5338 - accuracy: 0.4493 - val_loss: 1.4312 - val_accuracy: 0.4753\n",
            "Epoch 4/20\n",
            "1563/1563 [==============================] - 5s 3ms/step - loss: 1.3925 - accuracy: 0.4978 - val_loss: 1.4343 - val_accuracy: 0.4702\n",
            "Epoch 5/20\n",
            "1563/1563 [==============================] - 5s 3ms/step - loss: 1.2957 - accuracy: 0.5400 - val_loss: 1.2638 - val_accuracy: 0.5457\n",
            "Epoch 6/20\n",
            "1563/1563 [==============================] - 5s 3ms/step - loss: 1.2177 - accuracy: 0.5730 - val_loss: 1.2170 - val_accuracy: 0.5613\n",
            "Epoch 7/20\n",
            "1563/1563 [==============================] - 5s 3ms/step - loss: 1.1496 - accuracy: 0.5965 - val_loss: 1.1391 - val_accuracy: 0.5989\n",
            "Epoch 8/20\n",
            "1563/1563 [==============================] - 5s 3ms/step - loss: 1.0866 - accuracy: 0.6224 - val_loss: 1.2328 - val_accuracy: 0.5611\n",
            "Epoch 9/20\n",
            "1563/1563 [==============================] - 5s 3ms/step - loss: 1.0297 - accuracy: 0.6415 - val_loss: 1.0720 - val_accuracy: 0.6229\n",
            "Epoch 10/20\n",
            "1563/1563 [==============================] - 5s 3ms/step - loss: 0.9949 - accuracy: 0.6550 - val_loss: 1.0216 - val_accuracy: 0.6445\n",
            "Epoch 11/20\n",
            "1563/1563 [==============================] - 5s 3ms/step - loss: 0.9544 - accuracy: 0.6674 - val_loss: 1.0077 - val_accuracy: 0.6471\n",
            "Epoch 12/20\n",
            "1563/1563 [==============================] - 5s 3ms/step - loss: 0.9049 - accuracy: 0.6864 - val_loss: 1.0719 - val_accuracy: 0.6193\n",
            "Epoch 13/20\n",
            "1563/1563 [==============================] - 5s 3ms/step - loss: 0.8739 - accuracy: 0.6982 - val_loss: 0.9719 - val_accuracy: 0.6629\n",
            "Epoch 14/20\n",
            "1563/1563 [==============================] - 5s 3ms/step - loss: 0.8373 - accuracy: 0.7100 - val_loss: 0.9419 - val_accuracy: 0.6747\n",
            "Epoch 15/20\n",
            "1563/1563 [==============================] - 5s 3ms/step - loss: 0.8098 - accuracy: 0.7218 - val_loss: 0.9700 - val_accuracy: 0.6586\n",
            "Epoch 16/20\n",
            "1563/1563 [==============================] - 5s 3ms/step - loss: 0.7731 - accuracy: 0.7304 - val_loss: 0.9583 - val_accuracy: 0.6710\n",
            "Epoch 17/20\n",
            "1563/1563 [==============================] - 5s 3ms/step - loss: 0.7536 - accuracy: 0.7401 - val_loss: 0.9924 - val_accuracy: 0.6570\n",
            "Epoch 18/20\n",
            "1563/1563 [==============================] - 5s 3ms/step - loss: 0.7222 - accuracy: 0.7491 - val_loss: 0.9024 - val_accuracy: 0.6944\n",
            "Epoch 19/20\n",
            "1563/1563 [==============================] - 5s 3ms/step - loss: 0.6965 - accuracy: 0.7577 - val_loss: 0.9630 - val_accuracy: 0.6789\n",
            "Epoch 20/20\n",
            "1563/1563 [==============================] - 5s 3ms/step - loss: 0.6710 - accuracy: 0.7647 - val_loss: 0.9824 - val_accuracy: 0.6729\n"
          ],
          "name": "stdout"
        },
        {
          "output_type": "display_data",
          "data": {
            "image/png": "[encoded data removed]",
            "text/plain": [
              "<Figure size 432x288 with 1 Axes>"
            ]
          },
          "metadata": {
            "tags": [],
            "needs_background": "light"
          }
        }
      ]
    },
    {
      "cell_type": "code",
      "metadata": {
        "id": "ORSLcwlBXcsQ",
        "colab": {
          "base_uri": "https://localhost:8080/",
          "height": 975
        },
        "outputId": "a1bf2e84-e05c-4121-a543-6641ec2832ac"
      },
      "source": [
        "OPTIMIZER = 'adam'\n",
        "\n",
        "LOSS = tf.keras.losses.SparseCategoricalCrossentropy(from_logits=True)\n",
        "\n",
        "# Compile the model\n",
        "model.compile(optimizer=OPTIMIZER,\n",
        "              loss=LOSS,\n",
        "              metrics=['accuracy'])\n",
        "\n",
        "# Fit the model\n",
        "history = model.fit(train_images, train_labels, epochs=NUM_EPOCHS, \n",
        "                    validation_data=(test_images, test_labels))\n",
        "\n",
        "# summarize history for accuracy\n",
        "plt.plot(history.history['accuracy'])\n",
        "plt.plot(history.history['val_accuracy'])\n",
        "plt.title('model accuracy')\n",
        "plt.ylabel('accuracy')\n",
        "plt.xlabel('epoch')\n",
        "plt.legend(['train', 'test'], loc='upper left')\n",
        "plt.xlim([0,NUM_EPOCHS])\n",
        "plt.ylim([0.4,1.0])\n",
        "plt.show()"
      ],
      "execution_count": null,
      "outputs": [
        {
          "output_type": "stream",
          "text": [
            "Epoch 1/20\n",
            "1563/1563 [==============================] - 5s 3ms/step - loss: 0.8515 - accuracy: 0.7033 - val_loss: 0.9268 - val_accuracy: 0.6801\n",
            "Epoch 2/20\n",
            "1563/1563 [==============================] - 5s 3ms/step - loss: 0.7583 - accuracy: 0.7308 - val_loss: 0.9148 - val_accuracy: 0.6845\n",
            "Epoch 3/20\n",
            "1563/1563 [==============================] - 5s 3ms/step - loss: 0.6761 - accuracy: 0.7633 - val_loss: 0.8902 - val_accuracy: 0.6961\n",
            "Epoch 4/20\n",
            "1563/1563 [==============================] - 5s 3ms/step - loss: 0.6011 - accuracy: 0.7888 - val_loss: 0.8809 - val_accuracy: 0.7115\n",
            "Epoch 5/20\n",
            "1563/1563 [==============================] - 5s 3ms/step - loss: 0.5313 - accuracy: 0.8136 - val_loss: 0.8653 - val_accuracy: 0.7195\n",
            "Epoch 6/20\n",
            "1563/1563 [==============================] - 5s 3ms/step - loss: 0.4647 - accuracy: 0.8359 - val_loss: 0.9196 - val_accuracy: 0.7186\n",
            "Epoch 7/20\n",
            "1563/1563 [==============================] - 5s 3ms/step - loss: 0.4003 - accuracy: 0.8591 - val_loss: 0.9740 - val_accuracy: 0.6984\n",
            "Epoch 8/20\n",
            "1563/1563 [==============================] - 5s 3ms/step - loss: 0.3617 - accuracy: 0.8733 - val_loss: 1.0151 - val_accuracy: 0.7031\n",
            "Epoch 9/20\n",
            "1563/1563 [==============================] - 5s 3ms/step - loss: 0.3216 - accuracy: 0.8870 - val_loss: 1.0736 - val_accuracy: 0.7036\n",
            "Epoch 10/20\n",
            "1563/1563 [==============================] - 5s 3ms/step - loss: 0.2817 - accuracy: 0.9021 - val_loss: 1.1257 - val_accuracy: 0.7022\n",
            "Epoch 11/20\n",
            "1563/1563 [==============================] - 5s 3ms/step - loss: 0.2425 - accuracy: 0.9158 - val_loss: 1.2406 - val_accuracy: 0.6938\n",
            "Epoch 12/20\n",
            "1563/1563 [==============================] - 5s 3ms/step - loss: 0.2341 - accuracy: 0.9160 - val_loss: 1.2662 - val_accuracy: 0.7046\n",
            "Epoch 13/20\n",
            "1563/1563 [==============================] - 5s 3ms/step - loss: 0.2043 - accuracy: 0.9272 - val_loss: 1.3187 - val_accuracy: 0.6978\n",
            "Epoch 14/20\n",
            "1563/1563 [==============================] - 5s 3ms/step - loss: 0.1905 - accuracy: 0.9337 - val_loss: 1.4618 - val_accuracy: 0.6960\n",
            "Epoch 15/20\n",
            "1563/1563 [==============================] - 5s 3ms/step - loss: 0.1659 - accuracy: 0.9422 - val_loss: 1.4346 - val_accuracy: 0.6966\n",
            "Epoch 16/20\n",
            "1563/1563 [==============================] - 5s 3ms/step - loss: 0.1593 - accuracy: 0.9436 - val_loss: 1.5884 - val_accuracy: 0.6960\n",
            "Epoch 17/20\n",
            "1563/1563 [==============================] - 5s 3ms/step - loss: 0.1512 - accuracy: 0.9471 - val_loss: 1.6183 - val_accuracy: 0.6997\n",
            "Epoch 18/20\n",
            "1563/1563 [==============================] - 5s 3ms/step - loss: 0.1401 - accuracy: 0.9502 - val_loss: 1.6560 - val_accuracy: 0.6915\n",
            "Epoch 19/20\n",
            "1563/1563 [==============================] - 5s 3ms/step - loss: 0.1349 - accuracy: 0.9529 - val_loss: 1.7988 - val_accuracy: 0.7038\n",
            "Epoch 20/20\n",
            "1563/1563 [==============================] - 5s 3ms/step - loss: 0.1240 - accuracy: 0.9564 - val_loss: 1.8269 - val_accuracy: 0.6904\n"
          ],
          "name": "stdout"
        },
        {
          "output_type": "display_data",
          "data": {
            "image/png": "[encoded data removed]",
            "text/plain": [
              "<Figure size 432x288 with 1 Axes>"
            ]
          },
          "metadata": {
            "tags": [],
            "needs_background": "light"
          }
        }
      ]
    }
  ]
}